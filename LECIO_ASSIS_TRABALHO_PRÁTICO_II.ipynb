{
  "nbformat": 4,
  "nbformat_minor": 0,
  "metadata": {
    "colab": {
      "provenance": [],
      "include_colab_link": true
    },
    "kernelspec": {
      "name": "python3",
      "display_name": "Python 3"
    },
    "language_info": {
      "name": "python"
    }
  },
  "cells": [
    {
      "cell_type": "markdown",
      "metadata": {
        "id": "view-in-github",
        "colab_type": "text"
      },
      "source": [
        "<a href=\"https://colab.research.google.com/github/lecioassis/ia_unifesp_2023/blob/main/LECIO_ASSIS_TRABALHO_PR%C3%81TICO_II.ipynb\" target=\"_parent\"><img src=\"https://colab.research.google.com/assets/colab-badge.svg\" alt=\"Open In Colab\"/></a>"
      ]
    },
    {
      "cell_type": "code",
      "execution_count": 1,
      "metadata": {
        "id": "RuSeNmuLp3rY"
      },
      "outputs": [],
      "source": [
        "import pandas as pd\n",
        "import zipfile\n",
        "import numpy as np\n",
        "import torch"
      ]
    },
    {
      "cell_type": "markdown",
      "source": [
        "## Leitura dos Dados"
      ],
      "metadata": {
        "id": "xkuPnLiNz7_j"
      }
    },
    {
      "cell_type": "code",
      "source": [
        "from google.colab import drive\n",
        "drive.mount('/content/drive')"
      ],
      "metadata": {
        "colab": {
          "base_uri": "https://localhost:8080/"
        },
        "id": "SoEd53muqb2Y",
        "outputId": "cf346b20-ae12-4254-e1d1-992c5dded326"
      },
      "execution_count": 2,
      "outputs": [
        {
          "output_type": "stream",
          "name": "stdout",
          "text": [
            "Mounted at /content/drive\n"
          ]
        }
      ]
    },
    {
      "cell_type": "code",
      "source": [
        "try:\n",
        "  zf = zipfile.ZipFile('/content/drive/MyDrive/Data/House_Sale/House_Sale.zip')\n",
        "  zf.extractall()\n",
        "  df = pd.read_csv('/content/kc_house_data.csv')\n",
        "  data = pd.read_csv('/content/kc_house_data.csv')\n",
        "except:\n",
        "  zf = zipfile.ZipFile('/content/drive/MyDrive/IA1s2023/Data/House_Sale/House_Sale.zip')\n",
        "  zf.extractall()\n",
        "  df = pd.read_csv('/content/kc_house_data.csv')\n",
        "  data = pd.read_csv('/content/kc_house_data.csv')"
      ],
      "metadata": {
        "id": "p0tQVoa5qnRG"
      },
      "execution_count": 3,
      "outputs": []
    },
    {
      "cell_type": "code",
      "source": [
        "data.head()"
      ],
      "metadata": {
        "colab": {
          "base_uri": "https://localhost:8080/",
          "height": 280
        },
        "id": "7c9J7StDtKFw",
        "outputId": "5c92c16e-022b-4bf7-9e74-4cb86cd7a2b6"
      },
      "execution_count": 4,
      "outputs": [
        {
          "output_type": "execute_result",
          "data": {
            "text/plain": [
              "           id             date     price  bedrooms  bathrooms  sqft_living  \\\n",
              "0  7129300520  20141013T000000  221900.0         3       1.00         1180   \n",
              "1  6414100192  20141209T000000  538000.0         3       2.25         2570   \n",
              "2  5631500400  20150225T000000  180000.0         2       1.00          770   \n",
              "3  2487200875  20141209T000000  604000.0         4       3.00         1960   \n",
              "4  1954400510  20150218T000000  510000.0         3       2.00         1680   \n",
              "\n",
              "   sqft_lot  floors  waterfront  view  ...  grade  sqft_above  sqft_basement  \\\n",
              "0      5650     1.0           0     0  ...      7      1180.0              0   \n",
              "1      7242     2.0           0     0  ...      7      2170.0            400   \n",
              "2     10000     1.0           0     0  ...      6       770.0              0   \n",
              "3      5000     1.0           0     0  ...      7      1050.0            910   \n",
              "4      8080     1.0           0     0  ...      8      1680.0              0   \n",
              "\n",
              "   yr_built  yr_renovated  zipcode      lat     long  sqft_living15  \\\n",
              "0      1955             0    98178  47.5112 -122.257           1340   \n",
              "1      1951          1991    98125  47.7210 -122.319           1690   \n",
              "2      1933             0    98028  47.7379 -122.233           2720   \n",
              "3      1965             0    98136  47.5208 -122.393           1360   \n",
              "4      1987             0    98074  47.6168 -122.045           1800   \n",
              "\n",
              "   sqft_lot15  \n",
              "0        5650  \n",
              "1        7639  \n",
              "2        8062  \n",
              "3        5000  \n",
              "4        7503  \n",
              "\n",
              "[5 rows x 21 columns]"
            ],
            "text/html": [
              "\n",
              "  <div id=\"df-9d908722-5588-4f0b-909f-0671844e9941\">\n",
              "    <div class=\"colab-df-container\">\n",
              "      <div>\n",
              "<style scoped>\n",
              "    .dataframe tbody tr th:only-of-type {\n",
              "        vertical-align: middle;\n",
              "    }\n",
              "\n",
              "    .dataframe tbody tr th {\n",
              "        vertical-align: top;\n",
              "    }\n",
              "\n",
              "    .dataframe thead th {\n",
              "        text-align: right;\n",
              "    }\n",
              "</style>\n",
              "<table border=\"1\" class=\"dataframe\">\n",
              "  <thead>\n",
              "    <tr style=\"text-align: right;\">\n",
              "      <th></th>\n",
              "      <th>id</th>\n",
              "      <th>date</th>\n",
              "      <th>price</th>\n",
              "      <th>bedrooms</th>\n",
              "      <th>bathrooms</th>\n",
              "      <th>sqft_living</th>\n",
              "      <th>sqft_lot</th>\n",
              "      <th>floors</th>\n",
              "      <th>waterfront</th>\n",
              "      <th>view</th>\n",
              "      <th>...</th>\n",
              "      <th>grade</th>\n",
              "      <th>sqft_above</th>\n",
              "      <th>sqft_basement</th>\n",
              "      <th>yr_built</th>\n",
              "      <th>yr_renovated</th>\n",
              "      <th>zipcode</th>\n",
              "      <th>lat</th>\n",
              "      <th>long</th>\n",
              "      <th>sqft_living15</th>\n",
              "      <th>sqft_lot15</th>\n",
              "    </tr>\n",
              "  </thead>\n",
              "  <tbody>\n",
              "    <tr>\n",
              "      <th>0</th>\n",
              "      <td>7129300520</td>\n",
              "      <td>20141013T000000</td>\n",
              "      <td>221900.0</td>\n",
              "      <td>3</td>\n",
              "      <td>1.00</td>\n",
              "      <td>1180</td>\n",
              "      <td>5650</td>\n",
              "      <td>1.0</td>\n",
              "      <td>0</td>\n",
              "      <td>0</td>\n",
              "      <td>...</td>\n",
              "      <td>7</td>\n",
              "      <td>1180.0</td>\n",
              "      <td>0</td>\n",
              "      <td>1955</td>\n",
              "      <td>0</td>\n",
              "      <td>98178</td>\n",
              "      <td>47.5112</td>\n",
              "      <td>-122.257</td>\n",
              "      <td>1340</td>\n",
              "      <td>5650</td>\n",
              "    </tr>\n",
              "    <tr>\n",
              "      <th>1</th>\n",
              "      <td>6414100192</td>\n",
              "      <td>20141209T000000</td>\n",
              "      <td>538000.0</td>\n",
              "      <td>3</td>\n",
              "      <td>2.25</td>\n",
              "      <td>2570</td>\n",
              "      <td>7242</td>\n",
              "      <td>2.0</td>\n",
              "      <td>0</td>\n",
              "      <td>0</td>\n",
              "      <td>...</td>\n",
              "      <td>7</td>\n",
              "      <td>2170.0</td>\n",
              "      <td>400</td>\n",
              "      <td>1951</td>\n",
              "      <td>1991</td>\n",
              "      <td>98125</td>\n",
              "      <td>47.7210</td>\n",
              "      <td>-122.319</td>\n",
              "      <td>1690</td>\n",
              "      <td>7639</td>\n",
              "    </tr>\n",
              "    <tr>\n",
              "      <th>2</th>\n",
              "      <td>5631500400</td>\n",
              "      <td>20150225T000000</td>\n",
              "      <td>180000.0</td>\n",
              "      <td>2</td>\n",
              "      <td>1.00</td>\n",
              "      <td>770</td>\n",
              "      <td>10000</td>\n",
              "      <td>1.0</td>\n",
              "      <td>0</td>\n",
              "      <td>0</td>\n",
              "      <td>...</td>\n",
              "      <td>6</td>\n",
              "      <td>770.0</td>\n",
              "      <td>0</td>\n",
              "      <td>1933</td>\n",
              "      <td>0</td>\n",
              "      <td>98028</td>\n",
              "      <td>47.7379</td>\n",
              "      <td>-122.233</td>\n",
              "      <td>2720</td>\n",
              "      <td>8062</td>\n",
              "    </tr>\n",
              "    <tr>\n",
              "      <th>3</th>\n",
              "      <td>2487200875</td>\n",
              "      <td>20141209T000000</td>\n",
              "      <td>604000.0</td>\n",
              "      <td>4</td>\n",
              "      <td>3.00</td>\n",
              "      <td>1960</td>\n",
              "      <td>5000</td>\n",
              "      <td>1.0</td>\n",
              "      <td>0</td>\n",
              "      <td>0</td>\n",
              "      <td>...</td>\n",
              "      <td>7</td>\n",
              "      <td>1050.0</td>\n",
              "      <td>910</td>\n",
              "      <td>1965</td>\n",
              "      <td>0</td>\n",
              "      <td>98136</td>\n",
              "      <td>47.5208</td>\n",
              "      <td>-122.393</td>\n",
              "      <td>1360</td>\n",
              "      <td>5000</td>\n",
              "    </tr>\n",
              "    <tr>\n",
              "      <th>4</th>\n",
              "      <td>1954400510</td>\n",
              "      <td>20150218T000000</td>\n",
              "      <td>510000.0</td>\n",
              "      <td>3</td>\n",
              "      <td>2.00</td>\n",
              "      <td>1680</td>\n",
              "      <td>8080</td>\n",
              "      <td>1.0</td>\n",
              "      <td>0</td>\n",
              "      <td>0</td>\n",
              "      <td>...</td>\n",
              "      <td>8</td>\n",
              "      <td>1680.0</td>\n",
              "      <td>0</td>\n",
              "      <td>1987</td>\n",
              "      <td>0</td>\n",
              "      <td>98074</td>\n",
              "      <td>47.6168</td>\n",
              "      <td>-122.045</td>\n",
              "      <td>1800</td>\n",
              "      <td>7503</td>\n",
              "    </tr>\n",
              "  </tbody>\n",
              "</table>\n",
              "<p>5 rows × 21 columns</p>\n",
              "</div>\n",
              "      <button class=\"colab-df-convert\" onclick=\"convertToInteractive('df-9d908722-5588-4f0b-909f-0671844e9941')\"\n",
              "              title=\"Convert this dataframe to an interactive table.\"\n",
              "              style=\"display:none;\">\n",
              "        \n",
              "  <svg xmlns=\"http://www.w3.org/2000/svg\" height=\"24px\"viewBox=\"0 0 24 24\"\n",
              "       width=\"24px\">\n",
              "    <path d=\"M0 0h24v24H0V0z\" fill=\"none\"/>\n",
              "    <path d=\"M18.56 5.44l.94 2.06.94-2.06 2.06-.94-2.06-.94-.94-2.06-.94 2.06-2.06.94zm-11 1L8.5 8.5l.94-2.06 2.06-.94-2.06-.94L8.5 2.5l-.94 2.06-2.06.94zm10 10l.94 2.06.94-2.06 2.06-.94-2.06-.94-.94-2.06-.94 2.06-2.06.94z\"/><path d=\"M17.41 7.96l-1.37-1.37c-.4-.4-.92-.59-1.43-.59-.52 0-1.04.2-1.43.59L10.3 9.45l-7.72 7.72c-.78.78-.78 2.05 0 2.83L4 21.41c.39.39.9.59 1.41.59.51 0 1.02-.2 1.41-.59l7.78-7.78 2.81-2.81c.8-.78.8-2.07 0-2.86zM5.41 20L4 18.59l7.72-7.72 1.47 1.35L5.41 20z\"/>\n",
              "  </svg>\n",
              "      </button>\n",
              "      \n",
              "  <style>\n",
              "    .colab-df-container {\n",
              "      display:flex;\n",
              "      flex-wrap:wrap;\n",
              "      gap: 12px;\n",
              "    }\n",
              "\n",
              "    .colab-df-convert {\n",
              "      background-color: #E8F0FE;\n",
              "      border: none;\n",
              "      border-radius: 50%;\n",
              "      cursor: pointer;\n",
              "      display: none;\n",
              "      fill: #1967D2;\n",
              "      height: 32px;\n",
              "      padding: 0 0 0 0;\n",
              "      width: 32px;\n",
              "    }\n",
              "\n",
              "    .colab-df-convert:hover {\n",
              "      background-color: #E2EBFA;\n",
              "      box-shadow: 0px 1px 2px rgba(60, 64, 67, 0.3), 0px 1px 3px 1px rgba(60, 64, 67, 0.15);\n",
              "      fill: #174EA6;\n",
              "    }\n",
              "\n",
              "    [theme=dark] .colab-df-convert {\n",
              "      background-color: #3B4455;\n",
              "      fill: #D2E3FC;\n",
              "    }\n",
              "\n",
              "    [theme=dark] .colab-df-convert:hover {\n",
              "      background-color: #434B5C;\n",
              "      box-shadow: 0px 1px 3px 1px rgba(0, 0, 0, 0.15);\n",
              "      filter: drop-shadow(0px 1px 2px rgba(0, 0, 0, 0.3));\n",
              "      fill: #FFFFFF;\n",
              "    }\n",
              "  </style>\n",
              "\n",
              "      <script>\n",
              "        const buttonEl =\n",
              "          document.querySelector('#df-9d908722-5588-4f0b-909f-0671844e9941 button.colab-df-convert');\n",
              "        buttonEl.style.display =\n",
              "          google.colab.kernel.accessAllowed ? 'block' : 'none';\n",
              "\n",
              "        async function convertToInteractive(key) {\n",
              "          const element = document.querySelector('#df-9d908722-5588-4f0b-909f-0671844e9941');\n",
              "          const dataTable =\n",
              "            await google.colab.kernel.invokeFunction('convertToInteractive',\n",
              "                                                     [key], {});\n",
              "          if (!dataTable) return;\n",
              "\n",
              "          const docLinkHtml = 'Like what you see? Visit the ' +\n",
              "            '<a target=\"_blank\" href=https://colab.research.google.com/notebooks/data_table.ipynb>data table notebook</a>'\n",
              "            + ' to learn more about interactive tables.';\n",
              "          element.innerHTML = '';\n",
              "          dataTable['output_type'] = 'display_data';\n",
              "          await google.colab.output.renderOutput(dataTable, element);\n",
              "          const docLink = document.createElement('div');\n",
              "          docLink.innerHTML = docLinkHtml;\n",
              "          element.appendChild(docLink);\n",
              "        }\n",
              "      </script>\n",
              "    </div>\n",
              "  </div>\n",
              "  "
            ]
          },
          "metadata": {},
          "execution_count": 4
        }
      ]
    },
    {
      "cell_type": "code",
      "source": [
        "data.shape"
      ],
      "metadata": {
        "colab": {
          "base_uri": "https://localhost:8080/"
        },
        "id": "_GcIF164viFa",
        "outputId": "91fad10d-6b6e-467f-efc9-b999fcfc325b"
      },
      "execution_count": 5,
      "outputs": [
        {
          "output_type": "execute_result",
          "data": {
            "text/plain": [
              "(21613, 21)"
            ]
          },
          "metadata": {},
          "execution_count": 5
        }
      ]
    },
    {
      "cell_type": "markdown",
      "source": [
        "## Tratamento"
      ],
      "metadata": {
        "id": "qaVXjGM00BjA"
      }
    },
    {
      "cell_type": "code",
      "source": [
        "data = data.drop(['id', 'date', 'lat', 'long','zipcode' ], axis=1) # remove a coluna de IDs\n",
        "data.head()"
      ],
      "metadata": {
        "colab": {
          "base_uri": "https://localhost:8080/",
          "height": 206
        },
        "id": "brD1twfX7Qx8",
        "outputId": "848bd1b1-127f-4c9b-8116-28fdff956ee5"
      },
      "execution_count": 6,
      "outputs": [
        {
          "output_type": "execute_result",
          "data": {
            "text/plain": [
              "      price  bedrooms  bathrooms  sqft_living  sqft_lot  floors  waterfront  \\\n",
              "0  221900.0         3       1.00         1180      5650     1.0           0   \n",
              "1  538000.0         3       2.25         2570      7242     2.0           0   \n",
              "2  180000.0         2       1.00          770     10000     1.0           0   \n",
              "3  604000.0         4       3.00         1960      5000     1.0           0   \n",
              "4  510000.0         3       2.00         1680      8080     1.0           0   \n",
              "\n",
              "   view  condition  grade  sqft_above  sqft_basement  yr_built  yr_renovated  \\\n",
              "0     0          3      7      1180.0              0      1955             0   \n",
              "1     0          3      7      2170.0            400      1951          1991   \n",
              "2     0          3      6       770.0              0      1933             0   \n",
              "3     0          5      7      1050.0            910      1965             0   \n",
              "4     0          3      8      1680.0              0      1987             0   \n",
              "\n",
              "   sqft_living15  sqft_lot15  \n",
              "0           1340        5650  \n",
              "1           1690        7639  \n",
              "2           2720        8062  \n",
              "3           1360        5000  \n",
              "4           1800        7503  "
            ],
            "text/html": [
              "\n",
              "  <div id=\"df-e710b14c-f94b-418d-a274-6e032d5aaa31\">\n",
              "    <div class=\"colab-df-container\">\n",
              "      <div>\n",
              "<style scoped>\n",
              "    .dataframe tbody tr th:only-of-type {\n",
              "        vertical-align: middle;\n",
              "    }\n",
              "\n",
              "    .dataframe tbody tr th {\n",
              "        vertical-align: top;\n",
              "    }\n",
              "\n",
              "    .dataframe thead th {\n",
              "        text-align: right;\n",
              "    }\n",
              "</style>\n",
              "<table border=\"1\" class=\"dataframe\">\n",
              "  <thead>\n",
              "    <tr style=\"text-align: right;\">\n",
              "      <th></th>\n",
              "      <th>price</th>\n",
              "      <th>bedrooms</th>\n",
              "      <th>bathrooms</th>\n",
              "      <th>sqft_living</th>\n",
              "      <th>sqft_lot</th>\n",
              "      <th>floors</th>\n",
              "      <th>waterfront</th>\n",
              "      <th>view</th>\n",
              "      <th>condition</th>\n",
              "      <th>grade</th>\n",
              "      <th>sqft_above</th>\n",
              "      <th>sqft_basement</th>\n",
              "      <th>yr_built</th>\n",
              "      <th>yr_renovated</th>\n",
              "      <th>sqft_living15</th>\n",
              "      <th>sqft_lot15</th>\n",
              "    </tr>\n",
              "  </thead>\n",
              "  <tbody>\n",
              "    <tr>\n",
              "      <th>0</th>\n",
              "      <td>221900.0</td>\n",
              "      <td>3</td>\n",
              "      <td>1.00</td>\n",
              "      <td>1180</td>\n",
              "      <td>5650</td>\n",
              "      <td>1.0</td>\n",
              "      <td>0</td>\n",
              "      <td>0</td>\n",
              "      <td>3</td>\n",
              "      <td>7</td>\n",
              "      <td>1180.0</td>\n",
              "      <td>0</td>\n",
              "      <td>1955</td>\n",
              "      <td>0</td>\n",
              "      <td>1340</td>\n",
              "      <td>5650</td>\n",
              "    </tr>\n",
              "    <tr>\n",
              "      <th>1</th>\n",
              "      <td>538000.0</td>\n",
              "      <td>3</td>\n",
              "      <td>2.25</td>\n",
              "      <td>2570</td>\n",
              "      <td>7242</td>\n",
              "      <td>2.0</td>\n",
              "      <td>0</td>\n",
              "      <td>0</td>\n",
              "      <td>3</td>\n",
              "      <td>7</td>\n",
              "      <td>2170.0</td>\n",
              "      <td>400</td>\n",
              "      <td>1951</td>\n",
              "      <td>1991</td>\n",
              "      <td>1690</td>\n",
              "      <td>7639</td>\n",
              "    </tr>\n",
              "    <tr>\n",
              "      <th>2</th>\n",
              "      <td>180000.0</td>\n",
              "      <td>2</td>\n",
              "      <td>1.00</td>\n",
              "      <td>770</td>\n",
              "      <td>10000</td>\n",
              "      <td>1.0</td>\n",
              "      <td>0</td>\n",
              "      <td>0</td>\n",
              "      <td>3</td>\n",
              "      <td>6</td>\n",
              "      <td>770.0</td>\n",
              "      <td>0</td>\n",
              "      <td>1933</td>\n",
              "      <td>0</td>\n",
              "      <td>2720</td>\n",
              "      <td>8062</td>\n",
              "    </tr>\n",
              "    <tr>\n",
              "      <th>3</th>\n",
              "      <td>604000.0</td>\n",
              "      <td>4</td>\n",
              "      <td>3.00</td>\n",
              "      <td>1960</td>\n",
              "      <td>5000</td>\n",
              "      <td>1.0</td>\n",
              "      <td>0</td>\n",
              "      <td>0</td>\n",
              "      <td>5</td>\n",
              "      <td>7</td>\n",
              "      <td>1050.0</td>\n",
              "      <td>910</td>\n",
              "      <td>1965</td>\n",
              "      <td>0</td>\n",
              "      <td>1360</td>\n",
              "      <td>5000</td>\n",
              "    </tr>\n",
              "    <tr>\n",
              "      <th>4</th>\n",
              "      <td>510000.0</td>\n",
              "      <td>3</td>\n",
              "      <td>2.00</td>\n",
              "      <td>1680</td>\n",
              "      <td>8080</td>\n",
              "      <td>1.0</td>\n",
              "      <td>0</td>\n",
              "      <td>0</td>\n",
              "      <td>3</td>\n",
              "      <td>8</td>\n",
              "      <td>1680.0</td>\n",
              "      <td>0</td>\n",
              "      <td>1987</td>\n",
              "      <td>0</td>\n",
              "      <td>1800</td>\n",
              "      <td>7503</td>\n",
              "    </tr>\n",
              "  </tbody>\n",
              "</table>\n",
              "</div>\n",
              "      <button class=\"colab-df-convert\" onclick=\"convertToInteractive('df-e710b14c-f94b-418d-a274-6e032d5aaa31')\"\n",
              "              title=\"Convert this dataframe to an interactive table.\"\n",
              "              style=\"display:none;\">\n",
              "        \n",
              "  <svg xmlns=\"http://www.w3.org/2000/svg\" height=\"24px\"viewBox=\"0 0 24 24\"\n",
              "       width=\"24px\">\n",
              "    <path d=\"M0 0h24v24H0V0z\" fill=\"none\"/>\n",
              "    <path d=\"M18.56 5.44l.94 2.06.94-2.06 2.06-.94-2.06-.94-.94-2.06-.94 2.06-2.06.94zm-11 1L8.5 8.5l.94-2.06 2.06-.94-2.06-.94L8.5 2.5l-.94 2.06-2.06.94zm10 10l.94 2.06.94-2.06 2.06-.94-2.06-.94-.94-2.06-.94 2.06-2.06.94z\"/><path d=\"M17.41 7.96l-1.37-1.37c-.4-.4-.92-.59-1.43-.59-.52 0-1.04.2-1.43.59L10.3 9.45l-7.72 7.72c-.78.78-.78 2.05 0 2.83L4 21.41c.39.39.9.59 1.41.59.51 0 1.02-.2 1.41-.59l7.78-7.78 2.81-2.81c.8-.78.8-2.07 0-2.86zM5.41 20L4 18.59l7.72-7.72 1.47 1.35L5.41 20z\"/>\n",
              "  </svg>\n",
              "      </button>\n",
              "      \n",
              "  <style>\n",
              "    .colab-df-container {\n",
              "      display:flex;\n",
              "      flex-wrap:wrap;\n",
              "      gap: 12px;\n",
              "    }\n",
              "\n",
              "    .colab-df-convert {\n",
              "      background-color: #E8F0FE;\n",
              "      border: none;\n",
              "      border-radius: 50%;\n",
              "      cursor: pointer;\n",
              "      display: none;\n",
              "      fill: #1967D2;\n",
              "      height: 32px;\n",
              "      padding: 0 0 0 0;\n",
              "      width: 32px;\n",
              "    }\n",
              "\n",
              "    .colab-df-convert:hover {\n",
              "      background-color: #E2EBFA;\n",
              "      box-shadow: 0px 1px 2px rgba(60, 64, 67, 0.3), 0px 1px 3px 1px rgba(60, 64, 67, 0.15);\n",
              "      fill: #174EA6;\n",
              "    }\n",
              "\n",
              "    [theme=dark] .colab-df-convert {\n",
              "      background-color: #3B4455;\n",
              "      fill: #D2E3FC;\n",
              "    }\n",
              "\n",
              "    [theme=dark] .colab-df-convert:hover {\n",
              "      background-color: #434B5C;\n",
              "      box-shadow: 0px 1px 3px 1px rgba(0, 0, 0, 0.15);\n",
              "      filter: drop-shadow(0px 1px 2px rgba(0, 0, 0, 0.3));\n",
              "      fill: #FFFFFF;\n",
              "    }\n",
              "  </style>\n",
              "\n",
              "      <script>\n",
              "        const buttonEl =\n",
              "          document.querySelector('#df-e710b14c-f94b-418d-a274-6e032d5aaa31 button.colab-df-convert');\n",
              "        buttonEl.style.display =\n",
              "          google.colab.kernel.accessAllowed ? 'block' : 'none';\n",
              "\n",
              "        async function convertToInteractive(key) {\n",
              "          const element = document.querySelector('#df-e710b14c-f94b-418d-a274-6e032d5aaa31');\n",
              "          const dataTable =\n",
              "            await google.colab.kernel.invokeFunction('convertToInteractive',\n",
              "                                                     [key], {});\n",
              "          if (!dataTable) return;\n",
              "\n",
              "          const docLinkHtml = 'Like what you see? Visit the ' +\n",
              "            '<a target=\"_blank\" href=https://colab.research.google.com/notebooks/data_table.ipynb>data table notebook</a>'\n",
              "            + ' to learn more about interactive tables.';\n",
              "          element.innerHTML = '';\n",
              "          dataTable['output_type'] = 'display_data';\n",
              "          await google.colab.output.renderOutput(dataTable, element);\n",
              "          const docLink = document.createElement('div');\n",
              "          docLink.innerHTML = docLinkHtml;\n",
              "          element.appendChild(docLink);\n",
              "        }\n",
              "      </script>\n",
              "    </div>\n",
              "  </div>\n",
              "  "
            ]
          },
          "metadata": {},
          "execution_count": 6
        }
      ]
    },
    {
      "cell_type": "code",
      "source": [
        "data.shape"
      ],
      "metadata": {
        "colab": {
          "base_uri": "https://localhost:8080/"
        },
        "id": "NtxRvr7t7-ZT",
        "outputId": "2891eea5-3920-45f6-fa4d-031db4e43c13"
      },
      "execution_count": 7,
      "outputs": [
        {
          "output_type": "execute_result",
          "data": {
            "text/plain": [
              "(21613, 16)"
            ]
          },
          "metadata": {},
          "execution_count": 7
        }
      ]
    },
    {
      "cell_type": "code",
      "source": [
        "data.columns"
      ],
      "metadata": {
        "colab": {
          "base_uri": "https://localhost:8080/"
        },
        "id": "PGw0AmqV7jQs",
        "outputId": "ca071d90-7473-433f-f4e4-31e24b8182d2"
      },
      "execution_count": 8,
      "outputs": [
        {
          "output_type": "execute_result",
          "data": {
            "text/plain": [
              "Index(['price', 'bedrooms', 'bathrooms', 'sqft_living', 'sqft_lot', 'floors',\n",
              "       'waterfront', 'view', 'condition', 'grade', 'sqft_above',\n",
              "       'sqft_basement', 'yr_built', 'yr_renovated', 'sqft_living15',\n",
              "       'sqft_lot15'],\n",
              "      dtype='object')"
            ]
          },
          "metadata": {},
          "execution_count": 8
        }
      ]
    },
    {
      "cell_type": "code",
      "source": [
        "data.isnull().sum()"
      ],
      "metadata": {
        "colab": {
          "base_uri": "https://localhost:8080/"
        },
        "id": "_FTnLmp6cFo4",
        "outputId": "4d59e819-d644-4e20-f7de-4d057bb3178c"
      },
      "execution_count": 9,
      "outputs": [
        {
          "output_type": "execute_result",
          "data": {
            "text/plain": [
              "price            0\n",
              "bedrooms         0\n",
              "bathrooms        0\n",
              "sqft_living      0\n",
              "sqft_lot         0\n",
              "floors           0\n",
              "waterfront       0\n",
              "view             0\n",
              "condition        0\n",
              "grade            0\n",
              "sqft_above       2\n",
              "sqft_basement    0\n",
              "yr_built         0\n",
              "yr_renovated     0\n",
              "sqft_living15    0\n",
              "sqft_lot15       0\n",
              "dtype: int64"
            ]
          },
          "metadata": {},
          "execution_count": 9
        }
      ]
    },
    {
      "cell_type": "code",
      "source": [
        "np.where(data['sqft_above'].isnull().values==True)"
      ],
      "metadata": {
        "colab": {
          "base_uri": "https://localhost:8080/"
        },
        "id": "B1lFkM-jcG4L",
        "outputId": "00af9c58-f1f1-4a01-da9a-9e6f029b46a8"
      },
      "execution_count": 10,
      "outputs": [
        {
          "output_type": "execute_result",
          "data": {
            "text/plain": [
              "(array([10, 17]),)"
            ]
          },
          "metadata": {},
          "execution_count": 10
        }
      ]
    },
    {
      "cell_type": "code",
      "source": [
        "print(data.values[10])\n",
        "print(data.values[17])"
      ],
      "metadata": {
        "colab": {
          "base_uri": "https://localhost:8080/"
        },
        "id": "C4yuOhKwc3RL",
        "outputId": "869cf3ff-872e-430a-871d-240761a68e8b"
      },
      "execution_count": 11,
      "outputs": [
        {
          "output_type": "stream",
          "name": "stdout",
          "text": [
            "[6.625e+05 3.000e+00 2.500e+00 3.560e+03 9.796e+03 1.000e+00 0.000e+00\n",
            " 0.000e+00 3.000e+00 8.000e+00       nan 1.700e+03 1.965e+03 0.000e+00\n",
            " 2.210e+03 8.925e+03]\n",
            "[4.850e+05 4.000e+00 1.000e+00 1.600e+03 4.300e+03 1.500e+00 0.000e+00\n",
            " 0.000e+00 4.000e+00 7.000e+00       nan 0.000e+00 1.916e+03 0.000e+00\n",
            " 1.610e+03 4.300e+03]\n"
          ]
        }
      ]
    },
    {
      "cell_type": "code",
      "source": [
        "data = data.drop([10, 17])"
      ],
      "metadata": {
        "id": "hA_FQeQfcNAK"
      },
      "execution_count": 12,
      "outputs": []
    },
    {
      "cell_type": "code",
      "source": [
        "data.isnull().sum()"
      ],
      "metadata": {
        "colab": {
          "base_uri": "https://localhost:8080/"
        },
        "id": "Q4k4ZiYKcjjT",
        "outputId": "3814d18b-0cc9-43fa-a2a5-8210f61a31c0"
      },
      "execution_count": 13,
      "outputs": [
        {
          "output_type": "execute_result",
          "data": {
            "text/plain": [
              "price            0\n",
              "bedrooms         0\n",
              "bathrooms        0\n",
              "sqft_living      0\n",
              "sqft_lot         0\n",
              "floors           0\n",
              "waterfront       0\n",
              "view             0\n",
              "condition        0\n",
              "grade            0\n",
              "sqft_above       0\n",
              "sqft_basement    0\n",
              "yr_built         0\n",
              "yr_renovated     0\n",
              "sqft_living15    0\n",
              "sqft_lot15       0\n",
              "dtype: int64"
            ]
          },
          "metadata": {},
          "execution_count": 13
        }
      ]
    },
    {
      "cell_type": "markdown",
      "source": [
        "## Correlação"
      ],
      "metadata": {
        "id": "6ocf7_sK1nad"
      }
    },
    {
      "cell_type": "code",
      "source": [
        "#Tabela de correlação\n",
        "corr = data.corr()\n",
        "corr"
      ],
      "metadata": {
        "colab": {
          "base_uri": "https://localhost:8080/",
          "height": 551
        },
        "id": "laj4AF_WYQ_y",
        "outputId": "00afd592-16cb-477a-8886-978928e867a8"
      },
      "execution_count": 14,
      "outputs": [
        {
          "output_type": "execute_result",
          "data": {
            "text/plain": [
              "                  price  bedrooms  bathrooms  sqft_living  sqft_lot    floors  \\\n",
              "price          1.000000  0.308366   0.525150     0.702055  0.089661  0.256814   \n",
              "bedrooms       0.308366  1.000000   0.515974     0.576763  0.031710  0.175418   \n",
              "bathrooms      0.525150  0.515974   1.000000     0.754684  0.087730  0.500712   \n",
              "sqft_living    0.702055  0.576763   0.754684     1.000000  0.172841  0.354048   \n",
              "sqft_lot       0.089661  0.031710   0.087730     0.172841  1.000000 -0.005206   \n",
              "floors         0.256814  0.175418   0.500712     0.354048 -0.005206  1.000000   \n",
              "waterfront     0.266371 -0.006581   0.063743     0.103829  0.021602  0.023695   \n",
              "view           0.397299  0.079537   0.187735     0.284647  0.074705  0.029432   \n",
              "condition      0.036379  0.028433  -0.124917    -0.058689 -0.008951 -0.263808   \n",
              "grade          0.667434  0.356998   0.664981     0.762727  0.113617  0.458208   \n",
              "sqft_above     0.605567  0.477616   0.685363     0.876644  0.183511  0.523899   \n",
              "sqft_basement  0.323842  0.303251   0.283737     0.434925  0.015301 -0.245634   \n",
              "yr_built       0.054006  0.154248   0.505968     0.318066  0.053061  0.489361   \n",
              "yr_renovated   0.126436  0.018844   0.050733     0.055377  0.007640  0.006330   \n",
              "sqft_living15  0.585377  0.391670   0.568626     0.756440  0.144605  0.279907   \n",
              "sqft_lot15     0.082448  0.029252   0.087163     0.183301  0.718556 -0.011275   \n",
              "\n",
              "               waterfront      view  condition     grade  sqft_above  \\\n",
              "price            0.266371  0.397299   0.036379  0.667434    0.605567   \n",
              "bedrooms        -0.006581  0.079537   0.028433  0.356998    0.477616   \n",
              "bathrooms        0.063743  0.187735  -0.124917  0.664981    0.685363   \n",
              "sqft_living      0.103829  0.284647  -0.058689  0.762727    0.876644   \n",
              "sqft_lot         0.021602  0.074705  -0.008951  0.113617    0.183511   \n",
              "floors           0.023695  0.029432  -0.263808  0.458208    0.523899   \n",
              "waterfront       1.000000  0.401857   0.016655  0.082775    0.072074   \n",
              "view             0.401857  1.000000   0.045995  0.251320    0.167648   \n",
              "condition        0.016655  0.045995   1.000000 -0.144647   -0.158206   \n",
              "grade            0.082775  0.251320  -0.144647  1.000000    0.755924   \n",
              "sqft_above       0.072074  0.167648  -0.158206  0.755924    1.000000   \n",
              "sqft_basement    0.080618  0.277051   0.174273  0.168375   -0.051976   \n",
              "yr_built        -0.026172 -0.053474  -0.361384  0.446958    0.423915   \n",
              "yr_renovated     0.092883  0.103912  -0.060617  0.014412    0.023283   \n",
              "sqft_living15    0.086463  0.280440  -0.092795  0.713197    0.731871   \n",
              "sqft_lot15       0.030702  0.072569  -0.003397  0.119243    0.194048   \n",
              "\n",
              "               sqft_basement  yr_built  yr_renovated  sqft_living15  \\\n",
              "price               0.323842  0.054006      0.126436       0.585377   \n",
              "bedrooms            0.303251  0.154248      0.018844       0.391670   \n",
              "bathrooms           0.283737  0.505968      0.050733       0.568626   \n",
              "sqft_living         0.434925  0.318066      0.055377       0.756440   \n",
              "sqft_lot            0.015301  0.053061      0.007640       0.144605   \n",
              "floors             -0.245634  0.489361      0.006330       0.279907   \n",
              "waterfront          0.080618 -0.026172      0.092883       0.086463   \n",
              "view                0.277051 -0.053474      0.103912       0.280440   \n",
              "condition           0.174273 -0.361384     -0.060617      -0.092795   \n",
              "grade               0.168375  0.446958      0.014412       0.713197   \n",
              "sqft_above         -0.051976  0.423915      0.023283       0.731871   \n",
              "sqft_basement       1.000000 -0.133195      0.071365       0.200341   \n",
              "yr_built           -0.133195  1.000000     -0.224913       0.326214   \n",
              "yr_renovated        0.071365 -0.224913      1.000000      -0.002675   \n",
              "sqft_living15       0.200341  0.326214     -0.002675       1.000000   \n",
              "sqft_lot15          0.017292  0.070936      0.007849       0.183188   \n",
              "\n",
              "               sqft_lot15  \n",
              "price            0.082448  \n",
              "bedrooms         0.029252  \n",
              "bathrooms        0.087163  \n",
              "sqft_living      0.183301  \n",
              "sqft_lot         0.718556  \n",
              "floors          -0.011275  \n",
              "waterfront       0.030702  \n",
              "view             0.072569  \n",
              "condition       -0.003397  \n",
              "grade            0.119243  \n",
              "sqft_above       0.194048  \n",
              "sqft_basement    0.017292  \n",
              "yr_built         0.070936  \n",
              "yr_renovated     0.007849  \n",
              "sqft_living15    0.183188  \n",
              "sqft_lot15       1.000000  "
            ],
            "text/html": [
              "\n",
              "  <div id=\"df-a532fd98-e382-4c7c-8b50-98ca2de0487e\">\n",
              "    <div class=\"colab-df-container\">\n",
              "      <div>\n",
              "<style scoped>\n",
              "    .dataframe tbody tr th:only-of-type {\n",
              "        vertical-align: middle;\n",
              "    }\n",
              "\n",
              "    .dataframe tbody tr th {\n",
              "        vertical-align: top;\n",
              "    }\n",
              "\n",
              "    .dataframe thead th {\n",
              "        text-align: right;\n",
              "    }\n",
              "</style>\n",
              "<table border=\"1\" class=\"dataframe\">\n",
              "  <thead>\n",
              "    <tr style=\"text-align: right;\">\n",
              "      <th></th>\n",
              "      <th>price</th>\n",
              "      <th>bedrooms</th>\n",
              "      <th>bathrooms</th>\n",
              "      <th>sqft_living</th>\n",
              "      <th>sqft_lot</th>\n",
              "      <th>floors</th>\n",
              "      <th>waterfront</th>\n",
              "      <th>view</th>\n",
              "      <th>condition</th>\n",
              "      <th>grade</th>\n",
              "      <th>sqft_above</th>\n",
              "      <th>sqft_basement</th>\n",
              "      <th>yr_built</th>\n",
              "      <th>yr_renovated</th>\n",
              "      <th>sqft_living15</th>\n",
              "      <th>sqft_lot15</th>\n",
              "    </tr>\n",
              "  </thead>\n",
              "  <tbody>\n",
              "    <tr>\n",
              "      <th>price</th>\n",
              "      <td>1.000000</td>\n",
              "      <td>0.308366</td>\n",
              "      <td>0.525150</td>\n",
              "      <td>0.702055</td>\n",
              "      <td>0.089661</td>\n",
              "      <td>0.256814</td>\n",
              "      <td>0.266371</td>\n",
              "      <td>0.397299</td>\n",
              "      <td>0.036379</td>\n",
              "      <td>0.667434</td>\n",
              "      <td>0.605567</td>\n",
              "      <td>0.323842</td>\n",
              "      <td>0.054006</td>\n",
              "      <td>0.126436</td>\n",
              "      <td>0.585377</td>\n",
              "      <td>0.082448</td>\n",
              "    </tr>\n",
              "    <tr>\n",
              "      <th>bedrooms</th>\n",
              "      <td>0.308366</td>\n",
              "      <td>1.000000</td>\n",
              "      <td>0.515974</td>\n",
              "      <td>0.576763</td>\n",
              "      <td>0.031710</td>\n",
              "      <td>0.175418</td>\n",
              "      <td>-0.006581</td>\n",
              "      <td>0.079537</td>\n",
              "      <td>0.028433</td>\n",
              "      <td>0.356998</td>\n",
              "      <td>0.477616</td>\n",
              "      <td>0.303251</td>\n",
              "      <td>0.154248</td>\n",
              "      <td>0.018844</td>\n",
              "      <td>0.391670</td>\n",
              "      <td>0.029252</td>\n",
              "    </tr>\n",
              "    <tr>\n",
              "      <th>bathrooms</th>\n",
              "      <td>0.525150</td>\n",
              "      <td>0.515974</td>\n",
              "      <td>1.000000</td>\n",
              "      <td>0.754684</td>\n",
              "      <td>0.087730</td>\n",
              "      <td>0.500712</td>\n",
              "      <td>0.063743</td>\n",
              "      <td>0.187735</td>\n",
              "      <td>-0.124917</td>\n",
              "      <td>0.664981</td>\n",
              "      <td>0.685363</td>\n",
              "      <td>0.283737</td>\n",
              "      <td>0.505968</td>\n",
              "      <td>0.050733</td>\n",
              "      <td>0.568626</td>\n",
              "      <td>0.087163</td>\n",
              "    </tr>\n",
              "    <tr>\n",
              "      <th>sqft_living</th>\n",
              "      <td>0.702055</td>\n",
              "      <td>0.576763</td>\n",
              "      <td>0.754684</td>\n",
              "      <td>1.000000</td>\n",
              "      <td>0.172841</td>\n",
              "      <td>0.354048</td>\n",
              "      <td>0.103829</td>\n",
              "      <td>0.284647</td>\n",
              "      <td>-0.058689</td>\n",
              "      <td>0.762727</td>\n",
              "      <td>0.876644</td>\n",
              "      <td>0.434925</td>\n",
              "      <td>0.318066</td>\n",
              "      <td>0.055377</td>\n",
              "      <td>0.756440</td>\n",
              "      <td>0.183301</td>\n",
              "    </tr>\n",
              "    <tr>\n",
              "      <th>sqft_lot</th>\n",
              "      <td>0.089661</td>\n",
              "      <td>0.031710</td>\n",
              "      <td>0.087730</td>\n",
              "      <td>0.172841</td>\n",
              "      <td>1.000000</td>\n",
              "      <td>-0.005206</td>\n",
              "      <td>0.021602</td>\n",
              "      <td>0.074705</td>\n",
              "      <td>-0.008951</td>\n",
              "      <td>0.113617</td>\n",
              "      <td>0.183511</td>\n",
              "      <td>0.015301</td>\n",
              "      <td>0.053061</td>\n",
              "      <td>0.007640</td>\n",
              "      <td>0.144605</td>\n",
              "      <td>0.718556</td>\n",
              "    </tr>\n",
              "    <tr>\n",
              "      <th>floors</th>\n",
              "      <td>0.256814</td>\n",
              "      <td>0.175418</td>\n",
              "      <td>0.500712</td>\n",
              "      <td>0.354048</td>\n",
              "      <td>-0.005206</td>\n",
              "      <td>1.000000</td>\n",
              "      <td>0.023695</td>\n",
              "      <td>0.029432</td>\n",
              "      <td>-0.263808</td>\n",
              "      <td>0.458208</td>\n",
              "      <td>0.523899</td>\n",
              "      <td>-0.245634</td>\n",
              "      <td>0.489361</td>\n",
              "      <td>0.006330</td>\n",
              "      <td>0.279907</td>\n",
              "      <td>-0.011275</td>\n",
              "    </tr>\n",
              "    <tr>\n",
              "      <th>waterfront</th>\n",
              "      <td>0.266371</td>\n",
              "      <td>-0.006581</td>\n",
              "      <td>0.063743</td>\n",
              "      <td>0.103829</td>\n",
              "      <td>0.021602</td>\n",
              "      <td>0.023695</td>\n",
              "      <td>1.000000</td>\n",
              "      <td>0.401857</td>\n",
              "      <td>0.016655</td>\n",
              "      <td>0.082775</td>\n",
              "      <td>0.072074</td>\n",
              "      <td>0.080618</td>\n",
              "      <td>-0.026172</td>\n",
              "      <td>0.092883</td>\n",
              "      <td>0.086463</td>\n",
              "      <td>0.030702</td>\n",
              "    </tr>\n",
              "    <tr>\n",
              "      <th>view</th>\n",
              "      <td>0.397299</td>\n",
              "      <td>0.079537</td>\n",
              "      <td>0.187735</td>\n",
              "      <td>0.284647</td>\n",
              "      <td>0.074705</td>\n",
              "      <td>0.029432</td>\n",
              "      <td>0.401857</td>\n",
              "      <td>1.000000</td>\n",
              "      <td>0.045995</td>\n",
              "      <td>0.251320</td>\n",
              "      <td>0.167648</td>\n",
              "      <td>0.277051</td>\n",
              "      <td>-0.053474</td>\n",
              "      <td>0.103912</td>\n",
              "      <td>0.280440</td>\n",
              "      <td>0.072569</td>\n",
              "    </tr>\n",
              "    <tr>\n",
              "      <th>condition</th>\n",
              "      <td>0.036379</td>\n",
              "      <td>0.028433</td>\n",
              "      <td>-0.124917</td>\n",
              "      <td>-0.058689</td>\n",
              "      <td>-0.008951</td>\n",
              "      <td>-0.263808</td>\n",
              "      <td>0.016655</td>\n",
              "      <td>0.045995</td>\n",
              "      <td>1.000000</td>\n",
              "      <td>-0.144647</td>\n",
              "      <td>-0.158206</td>\n",
              "      <td>0.174273</td>\n",
              "      <td>-0.361384</td>\n",
              "      <td>-0.060617</td>\n",
              "      <td>-0.092795</td>\n",
              "      <td>-0.003397</td>\n",
              "    </tr>\n",
              "    <tr>\n",
              "      <th>grade</th>\n",
              "      <td>0.667434</td>\n",
              "      <td>0.356998</td>\n",
              "      <td>0.664981</td>\n",
              "      <td>0.762727</td>\n",
              "      <td>0.113617</td>\n",
              "      <td>0.458208</td>\n",
              "      <td>0.082775</td>\n",
              "      <td>0.251320</td>\n",
              "      <td>-0.144647</td>\n",
              "      <td>1.000000</td>\n",
              "      <td>0.755924</td>\n",
              "      <td>0.168375</td>\n",
              "      <td>0.446958</td>\n",
              "      <td>0.014412</td>\n",
              "      <td>0.713197</td>\n",
              "      <td>0.119243</td>\n",
              "    </tr>\n",
              "    <tr>\n",
              "      <th>sqft_above</th>\n",
              "      <td>0.605567</td>\n",
              "      <td>0.477616</td>\n",
              "      <td>0.685363</td>\n",
              "      <td>0.876644</td>\n",
              "      <td>0.183511</td>\n",
              "      <td>0.523899</td>\n",
              "      <td>0.072074</td>\n",
              "      <td>0.167648</td>\n",
              "      <td>-0.158206</td>\n",
              "      <td>0.755924</td>\n",
              "      <td>1.000000</td>\n",
              "      <td>-0.051976</td>\n",
              "      <td>0.423915</td>\n",
              "      <td>0.023283</td>\n",
              "      <td>0.731871</td>\n",
              "      <td>0.194048</td>\n",
              "    </tr>\n",
              "    <tr>\n",
              "      <th>sqft_basement</th>\n",
              "      <td>0.323842</td>\n",
              "      <td>0.303251</td>\n",
              "      <td>0.283737</td>\n",
              "      <td>0.434925</td>\n",
              "      <td>0.015301</td>\n",
              "      <td>-0.245634</td>\n",
              "      <td>0.080618</td>\n",
              "      <td>0.277051</td>\n",
              "      <td>0.174273</td>\n",
              "      <td>0.168375</td>\n",
              "      <td>-0.051976</td>\n",
              "      <td>1.000000</td>\n",
              "      <td>-0.133195</td>\n",
              "      <td>0.071365</td>\n",
              "      <td>0.200341</td>\n",
              "      <td>0.017292</td>\n",
              "    </tr>\n",
              "    <tr>\n",
              "      <th>yr_built</th>\n",
              "      <td>0.054006</td>\n",
              "      <td>0.154248</td>\n",
              "      <td>0.505968</td>\n",
              "      <td>0.318066</td>\n",
              "      <td>0.053061</td>\n",
              "      <td>0.489361</td>\n",
              "      <td>-0.026172</td>\n",
              "      <td>-0.053474</td>\n",
              "      <td>-0.361384</td>\n",
              "      <td>0.446958</td>\n",
              "      <td>0.423915</td>\n",
              "      <td>-0.133195</td>\n",
              "      <td>1.000000</td>\n",
              "      <td>-0.224913</td>\n",
              "      <td>0.326214</td>\n",
              "      <td>0.070936</td>\n",
              "    </tr>\n",
              "    <tr>\n",
              "      <th>yr_renovated</th>\n",
              "      <td>0.126436</td>\n",
              "      <td>0.018844</td>\n",
              "      <td>0.050733</td>\n",
              "      <td>0.055377</td>\n",
              "      <td>0.007640</td>\n",
              "      <td>0.006330</td>\n",
              "      <td>0.092883</td>\n",
              "      <td>0.103912</td>\n",
              "      <td>-0.060617</td>\n",
              "      <td>0.014412</td>\n",
              "      <td>0.023283</td>\n",
              "      <td>0.071365</td>\n",
              "      <td>-0.224913</td>\n",
              "      <td>1.000000</td>\n",
              "      <td>-0.002675</td>\n",
              "      <td>0.007849</td>\n",
              "    </tr>\n",
              "    <tr>\n",
              "      <th>sqft_living15</th>\n",
              "      <td>0.585377</td>\n",
              "      <td>0.391670</td>\n",
              "      <td>0.568626</td>\n",
              "      <td>0.756440</td>\n",
              "      <td>0.144605</td>\n",
              "      <td>0.279907</td>\n",
              "      <td>0.086463</td>\n",
              "      <td>0.280440</td>\n",
              "      <td>-0.092795</td>\n",
              "      <td>0.713197</td>\n",
              "      <td>0.731871</td>\n",
              "      <td>0.200341</td>\n",
              "      <td>0.326214</td>\n",
              "      <td>-0.002675</td>\n",
              "      <td>1.000000</td>\n",
              "      <td>0.183188</td>\n",
              "    </tr>\n",
              "    <tr>\n",
              "      <th>sqft_lot15</th>\n",
              "      <td>0.082448</td>\n",
              "      <td>0.029252</td>\n",
              "      <td>0.087163</td>\n",
              "      <td>0.183301</td>\n",
              "      <td>0.718556</td>\n",
              "      <td>-0.011275</td>\n",
              "      <td>0.030702</td>\n",
              "      <td>0.072569</td>\n",
              "      <td>-0.003397</td>\n",
              "      <td>0.119243</td>\n",
              "      <td>0.194048</td>\n",
              "      <td>0.017292</td>\n",
              "      <td>0.070936</td>\n",
              "      <td>0.007849</td>\n",
              "      <td>0.183188</td>\n",
              "      <td>1.000000</td>\n",
              "    </tr>\n",
              "  </tbody>\n",
              "</table>\n",
              "</div>\n",
              "      <button class=\"colab-df-convert\" onclick=\"convertToInteractive('df-a532fd98-e382-4c7c-8b50-98ca2de0487e')\"\n",
              "              title=\"Convert this dataframe to an interactive table.\"\n",
              "              style=\"display:none;\">\n",
              "        \n",
              "  <svg xmlns=\"http://www.w3.org/2000/svg\" height=\"24px\"viewBox=\"0 0 24 24\"\n",
              "       width=\"24px\">\n",
              "    <path d=\"M0 0h24v24H0V0z\" fill=\"none\"/>\n",
              "    <path d=\"M18.56 5.44l.94 2.06.94-2.06 2.06-.94-2.06-.94-.94-2.06-.94 2.06-2.06.94zm-11 1L8.5 8.5l.94-2.06 2.06-.94-2.06-.94L8.5 2.5l-.94 2.06-2.06.94zm10 10l.94 2.06.94-2.06 2.06-.94-2.06-.94-.94-2.06-.94 2.06-2.06.94z\"/><path d=\"M17.41 7.96l-1.37-1.37c-.4-.4-.92-.59-1.43-.59-.52 0-1.04.2-1.43.59L10.3 9.45l-7.72 7.72c-.78.78-.78 2.05 0 2.83L4 21.41c.39.39.9.59 1.41.59.51 0 1.02-.2 1.41-.59l7.78-7.78 2.81-2.81c.8-.78.8-2.07 0-2.86zM5.41 20L4 18.59l7.72-7.72 1.47 1.35L5.41 20z\"/>\n",
              "  </svg>\n",
              "      </button>\n",
              "      \n",
              "  <style>\n",
              "    .colab-df-container {\n",
              "      display:flex;\n",
              "      flex-wrap:wrap;\n",
              "      gap: 12px;\n",
              "    }\n",
              "\n",
              "    .colab-df-convert {\n",
              "      background-color: #E8F0FE;\n",
              "      border: none;\n",
              "      border-radius: 50%;\n",
              "      cursor: pointer;\n",
              "      display: none;\n",
              "      fill: #1967D2;\n",
              "      height: 32px;\n",
              "      padding: 0 0 0 0;\n",
              "      width: 32px;\n",
              "    }\n",
              "\n",
              "    .colab-df-convert:hover {\n",
              "      background-color: #E2EBFA;\n",
              "      box-shadow: 0px 1px 2px rgba(60, 64, 67, 0.3), 0px 1px 3px 1px rgba(60, 64, 67, 0.15);\n",
              "      fill: #174EA6;\n",
              "    }\n",
              "\n",
              "    [theme=dark] .colab-df-convert {\n",
              "      background-color: #3B4455;\n",
              "      fill: #D2E3FC;\n",
              "    }\n",
              "\n",
              "    [theme=dark] .colab-df-convert:hover {\n",
              "      background-color: #434B5C;\n",
              "      box-shadow: 0px 1px 3px 1px rgba(0, 0, 0, 0.15);\n",
              "      filter: drop-shadow(0px 1px 2px rgba(0, 0, 0, 0.3));\n",
              "      fill: #FFFFFF;\n",
              "    }\n",
              "  </style>\n",
              "\n",
              "      <script>\n",
              "        const buttonEl =\n",
              "          document.querySelector('#df-a532fd98-e382-4c7c-8b50-98ca2de0487e button.colab-df-convert');\n",
              "        buttonEl.style.display =\n",
              "          google.colab.kernel.accessAllowed ? 'block' : 'none';\n",
              "\n",
              "        async function convertToInteractive(key) {\n",
              "          const element = document.querySelector('#df-a532fd98-e382-4c7c-8b50-98ca2de0487e');\n",
              "          const dataTable =\n",
              "            await google.colab.kernel.invokeFunction('convertToInteractive',\n",
              "                                                     [key], {});\n",
              "          if (!dataTable) return;\n",
              "\n",
              "          const docLinkHtml = 'Like what you see? Visit the ' +\n",
              "            '<a target=\"_blank\" href=https://colab.research.google.com/notebooks/data_table.ipynb>data table notebook</a>'\n",
              "            + ' to learn more about interactive tables.';\n",
              "          element.innerHTML = '';\n",
              "          dataTable['output_type'] = 'display_data';\n",
              "          await google.colab.output.renderOutput(dataTable, element);\n",
              "          const docLink = document.createElement('div');\n",
              "          docLink.innerHTML = docLinkHtml;\n",
              "          element.appendChild(docLink);\n",
              "        }\n",
              "      </script>\n",
              "    </div>\n",
              "  </div>\n",
              "  "
            ]
          },
          "metadata": {},
          "execution_count": 14
        }
      ]
    },
    {
      "cell_type": "code",
      "source": [
        "# Melhor visualização  da correlação\n",
        "import matplotlib.pyplot as plt\n",
        "import seaborn as sns\n",
        "f, ax = plt.subplots(figsize=(15, 12))\n",
        "sns.heatmap(corr, cmap=sns.color_palette(\"Blues\"), linewidths=.5, annot=True);"
      ],
      "metadata": {
        "colab": {
          "base_uri": "https://localhost:8080/",
          "height": 1000
        },
        "id": "IvHg1erUYX71",
        "outputId": "50985736-8975-4768-8cca-ebfd44327687"
      },
      "execution_count": 15,
      "outputs": [
        {
          "output_type": "display_data",
          "data": {
            "text/plain": [
              "<Figure size 1500x1200 with 2 Axes>"
            ],
            "image/png": "[encoded data removed]"
          },
          "metadata": {}
        }
      ]
    },
    {
      "cell_type": "code",
      "source": [
        "data.sample(frac=1) # embaralha o dataframe"
      ],
      "metadata": {
        "colab": {
          "base_uri": "https://localhost:8080/",
          "height": 424
        },
        "id": "sVT2ov84YgWo",
        "outputId": "82cb0089-f238-4a62-ae2d-aa516eb54fb9"
      },
      "execution_count": 16,
      "outputs": [
        {
          "output_type": "execute_result",
          "data": {
            "text/plain": [
              "          price  bedrooms  bathrooms  sqft_living  sqft_lot  floors  \\\n",
              "16453  525300.0         4       1.75         2520      7770     1.0   \n",
              "2480   432500.0         3       2.00         1720      8145     2.0   \n",
              "7970   690000.0         5       3.25         3370      7313     2.0   \n",
              "2540   350000.0         3       2.00         1320      1298     3.0   \n",
              "4668   414000.0         2       1.00          800      5000     1.0   \n",
              "...         ...       ...        ...          ...       ...     ...   \n",
              "13109  525000.0         4       1.50         1580      6360     1.5   \n",
              "3544   197000.0         4       1.00         1360     11175     1.0   \n",
              "18911  920000.0         3       3.25         3660     66211     2.0   \n",
              "17251  490000.0         4       2.50         3630      8387     2.0   \n",
              "6789   310000.0         3       2.00         2070      9195     1.0   \n",
              "\n",
              "       waterfront  view  condition  grade  sqft_above  sqft_basement  \\\n",
              "16453           0     0          3      8      1680.0            840   \n",
              "2480            0     0          5      7      1720.0              0   \n",
              "7970            0     0          4      8      2140.0           1230   \n",
              "2540            0     0          3      7      1320.0              0   \n",
              "4668            0     0          3      6       800.0              0   \n",
              "...           ...   ...        ...    ...         ...            ...   \n",
              "13109           0     0          3      7      1290.0            290   \n",
              "3544            0     0          3      7      1360.0              0   \n",
              "18911           0     0          3     10      3660.0              0   \n",
              "17251           0     0          3     10      3630.0              0   \n",
              "6789            0     0          3      8      1220.0            850   \n",
              "\n",
              "       yr_built  yr_renovated  sqft_living15  sqft_lot15  \n",
              "16453      1965             0           2340        7770  \n",
              "2480       1949             0           1400        8138  \n",
              "7970       1988             0           2990        7806  \n",
              "2540       1995             0           1380        1503  \n",
              "4668       1938             0           1220        5000  \n",
              "...         ...           ...            ...         ...  \n",
              "13109      1945             0           1690        6360  \n",
              "3544       1961             0           1340        9702  \n",
              "18911      2003             0           3660      107153  \n",
              "17251      1997             0           3370        8869  \n",
              "6789       1982             0           2080        9551  \n",
              "\n",
              "[21611 rows x 16 columns]"
            ],
            "text/html": [
              "\n",
              "  <div id=\"df-3cedbda2-b137-4238-a4ac-ed18ac213243\">\n",
              "    <div class=\"colab-df-container\">\n",
              "      <div>\n",
              "<style scoped>\n",
              "    .dataframe tbody tr th:only-of-type {\n",
              "        vertical-align: middle;\n",
              "    }\n",
              "\n",
              "    .dataframe tbody tr th {\n",
              "        vertical-align: top;\n",
              "    }\n",
              "\n",
              "    .dataframe thead th {\n",
              "        text-align: right;\n",
              "    }\n",
              "</style>\n",
              "<table border=\"1\" class=\"dataframe\">\n",
              "  <thead>\n",
              "    <tr style=\"text-align: right;\">\n",
              "      <th></th>\n",
              "      <th>price</th>\n",
              "      <th>bedrooms</th>\n",
              "      <th>bathrooms</th>\n",
              "      <th>sqft_living</th>\n",
              "      <th>sqft_lot</th>\n",
              "      <th>floors</th>\n",
              "      <th>waterfront</th>\n",
              "      <th>view</th>\n",
              "      <th>condition</th>\n",
              "      <th>grade</th>\n",
              "      <th>sqft_above</th>\n",
              "      <th>sqft_basement</th>\n",
              "      <th>yr_built</th>\n",
              "      <th>yr_renovated</th>\n",
              "      <th>sqft_living15</th>\n",
              "      <th>sqft_lot15</th>\n",
              "    </tr>\n",
              "  </thead>\n",
              "  <tbody>\n",
              "    <tr>\n",
              "      <th>16453</th>\n",
              "      <td>525300.0</td>\n",
              "      <td>4</td>\n",
              "      <td>1.75</td>\n",
              "      <td>2520</td>\n",
              "      <td>7770</td>\n",
              "      <td>1.0</td>\n",
              "      <td>0</td>\n",
              "      <td>0</td>\n",
              "      <td>3</td>\n",
              "      <td>8</td>\n",
              "      <td>1680.0</td>\n",
              "      <td>840</td>\n",
              "      <td>1965</td>\n",
              "      <td>0</td>\n",
              "      <td>2340</td>\n",
              "      <td>7770</td>\n",
              "    </tr>\n",
              "    <tr>\n",
              "      <th>2480</th>\n",
              "      <td>432500.0</td>\n",
              "      <td>3</td>\n",
              "      <td>2.00</td>\n",
              "      <td>1720</td>\n",
              "      <td>8145</td>\n",
              "      <td>2.0</td>\n",
              "      <td>0</td>\n",
              "      <td>0</td>\n",
              "      <td>5</td>\n",
              "      <td>7</td>\n",
              "      <td>1720.0</td>\n",
              "      <td>0</td>\n",
              "      <td>1949</td>\n",
              "      <td>0</td>\n",
              "      <td>1400</td>\n",
              "      <td>8138</td>\n",
              "    </tr>\n",
              "    <tr>\n",
              "      <th>7970</th>\n",
              "      <td>690000.0</td>\n",
              "      <td>5</td>\n",
              "      <td>3.25</td>\n",
              "      <td>3370</td>\n",
              "      <td>7313</td>\n",
              "      <td>2.0</td>\n",
              "      <td>0</td>\n",
              "      <td>0</td>\n",
              "      <td>4</td>\n",
              "      <td>8</td>\n",
              "      <td>2140.0</td>\n",
              "      <td>1230</td>\n",
              "      <td>1988</td>\n",
              "      <td>0</td>\n",
              "      <td>2990</td>\n",
              "      <td>7806</td>\n",
              "    </tr>\n",
              "    <tr>\n",
              "      <th>2540</th>\n",
              "      <td>350000.0</td>\n",
              "      <td>3</td>\n",
              "      <td>2.00</td>\n",
              "      <td>1320</td>\n",
              "      <td>1298</td>\n",
              "      <td>3.0</td>\n",
              "      <td>0</td>\n",
              "      <td>0</td>\n",
              "      <td>3</td>\n",
              "      <td>7</td>\n",
              "      <td>1320.0</td>\n",
              "      <td>0</td>\n",
              "      <td>1995</td>\n",
              "      <td>0</td>\n",
              "      <td>1380</td>\n",
              "      <td>1503</td>\n",
              "    </tr>\n",
              "    <tr>\n",
              "      <th>4668</th>\n",
              "      <td>414000.0</td>\n",
              "      <td>2</td>\n",
              "      <td>1.00</td>\n",
              "      <td>800</td>\n",
              "      <td>5000</td>\n",
              "      <td>1.0</td>\n",
              "      <td>0</td>\n",
              "      <td>0</td>\n",
              "      <td>3</td>\n",
              "      <td>6</td>\n",
              "      <td>800.0</td>\n",
              "      <td>0</td>\n",
              "      <td>1938</td>\n",
              "      <td>0</td>\n",
              "      <td>1220</td>\n",
              "      <td>5000</td>\n",
              "    </tr>\n",
              "    <tr>\n",
              "      <th>...</th>\n",
              "      <td>...</td>\n",
              "      <td>...</td>\n",
              "      <td>...</td>\n",
              "      <td>...</td>\n",
              "      <td>...</td>\n",
              "      <td>...</td>\n",
              "      <td>...</td>\n",
              "      <td>...</td>\n",
              "      <td>...</td>\n",
              "      <td>...</td>\n",
              "      <td>...</td>\n",
              "      <td>...</td>\n",
              "      <td>...</td>\n",
              "      <td>...</td>\n",
              "      <td>...</td>\n",
              "      <td>...</td>\n",
              "    </tr>\n",
              "    <tr>\n",
              "      <th>13109</th>\n",
              "      <td>525000.0</td>\n",
              "      <td>4</td>\n",
              "      <td>1.50</td>\n",
              "      <td>1580</td>\n",
              "      <td>6360</td>\n",
              "      <td>1.5</td>\n",
              "      <td>0</td>\n",
              "      <td>0</td>\n",
              "      <td>3</td>\n",
              "      <td>7</td>\n",
              "      <td>1290.0</td>\n",
              "      <td>290</td>\n",
              "      <td>1945</td>\n",
              "      <td>0</td>\n",
              "      <td>1690</td>\n",
              "      <td>6360</td>\n",
              "    </tr>\n",
              "    <tr>\n",
              "      <th>3544</th>\n",
              "      <td>197000.0</td>\n",
              "      <td>4</td>\n",
              "      <td>1.00</td>\n",
              "      <td>1360</td>\n",
              "      <td>11175</td>\n",
              "      <td>1.0</td>\n",
              "      <td>0</td>\n",
              "      <td>0</td>\n",
              "      <td>3</td>\n",
              "      <td>7</td>\n",
              "      <td>1360.0</td>\n",
              "      <td>0</td>\n",
              "      <td>1961</td>\n",
              "      <td>0</td>\n",
              "      <td>1340</td>\n",
              "      <td>9702</td>\n",
              "    </tr>\n",
              "    <tr>\n",
              "      <th>18911</th>\n",
              "      <td>920000.0</td>\n",
              "      <td>3</td>\n",
              "      <td>3.25</td>\n",
              "      <td>3660</td>\n",
              "      <td>66211</td>\n",
              "      <td>2.0</td>\n",
              "      <td>0</td>\n",
              "      <td>0</td>\n",
              "      <td>3</td>\n",
              "      <td>10</td>\n",
              "      <td>3660.0</td>\n",
              "      <td>0</td>\n",
              "      <td>2003</td>\n",
              "      <td>0</td>\n",
              "      <td>3660</td>\n",
              "      <td>107153</td>\n",
              "    </tr>\n",
              "    <tr>\n",
              "      <th>17251</th>\n",
              "      <td>490000.0</td>\n",
              "      <td>4</td>\n",
              "      <td>2.50</td>\n",
              "      <td>3630</td>\n",
              "      <td>8387</td>\n",
              "      <td>2.0</td>\n",
              "      <td>0</td>\n",
              "      <td>0</td>\n",
              "      <td>3</td>\n",
              "      <td>10</td>\n",
              "      <td>3630.0</td>\n",
              "      <td>0</td>\n",
              "      <td>1997</td>\n",
              "      <td>0</td>\n",
              "      <td>3370</td>\n",
              "      <td>8869</td>\n",
              "    </tr>\n",
              "    <tr>\n",
              "      <th>6789</th>\n",
              "      <td>310000.0</td>\n",
              "      <td>3</td>\n",
              "      <td>2.00</td>\n",
              "      <td>2070</td>\n",
              "      <td>9195</td>\n",
              "      <td>1.0</td>\n",
              "      <td>0</td>\n",
              "      <td>0</td>\n",
              "      <td>3</td>\n",
              "      <td>8</td>\n",
              "      <td>1220.0</td>\n",
              "      <td>850</td>\n",
              "      <td>1982</td>\n",
              "      <td>0</td>\n",
              "      <td>2080</td>\n",
              "      <td>9551</td>\n",
              "    </tr>\n",
              "  </tbody>\n",
              "</table>\n",
              "<p>21611 rows × 16 columns</p>\n",
              "</div>\n",
              "      <button class=\"colab-df-convert\" onclick=\"convertToInteractive('df-3cedbda2-b137-4238-a4ac-ed18ac213243')\"\n",
              "              title=\"Convert this dataframe to an interactive table.\"\n",
              "              style=\"display:none;\">\n",
              "        \n",
              "  <svg xmlns=\"http://www.w3.org/2000/svg\" height=\"24px\"viewBox=\"0 0 24 24\"\n",
              "       width=\"24px\">\n",
              "    <path d=\"M0 0h24v24H0V0z\" fill=\"none\"/>\n",
              "    <path d=\"M18.56 5.44l.94 2.06.94-2.06 2.06-.94-2.06-.94-.94-2.06-.94 2.06-2.06.94zm-11 1L8.5 8.5l.94-2.06 2.06-.94-2.06-.94L8.5 2.5l-.94 2.06-2.06.94zm10 10l.94 2.06.94-2.06 2.06-.94-2.06-.94-.94-2.06-.94 2.06-2.06.94z\"/><path d=\"M17.41 7.96l-1.37-1.37c-.4-.4-.92-.59-1.43-.59-.52 0-1.04.2-1.43.59L10.3 9.45l-7.72 7.72c-.78.78-.78 2.05 0 2.83L4 21.41c.39.39.9.59 1.41.59.51 0 1.02-.2 1.41-.59l7.78-7.78 2.81-2.81c.8-.78.8-2.07 0-2.86zM5.41 20L4 18.59l7.72-7.72 1.47 1.35L5.41 20z\"/>\n",
              "  </svg>\n",
              "      </button>\n",
              "      \n",
              "  <style>\n",
              "    .colab-df-container {\n",
              "      display:flex;\n",
              "      flex-wrap:wrap;\n",
              "      gap: 12px;\n",
              "    }\n",
              "\n",
              "    .colab-df-convert {\n",
              "      background-color: #E8F0FE;\n",
              "      border: none;\n",
              "      border-radius: 50%;\n",
              "      cursor: pointer;\n",
              "      display: none;\n",
              "      fill: #1967D2;\n",
              "      height: 32px;\n",
              "      padding: 0 0 0 0;\n",
              "      width: 32px;\n",
              "    }\n",
              "\n",
              "    .colab-df-convert:hover {\n",
              "      background-color: #E2EBFA;\n",
              "      box-shadow: 0px 1px 2px rgba(60, 64, 67, 0.3), 0px 1px 3px 1px rgba(60, 64, 67, 0.15);\n",
              "      fill: #174EA6;\n",
              "    }\n",
              "\n",
              "    [theme=dark] .colab-df-convert {\n",
              "      background-color: #3B4455;\n",
              "      fill: #D2E3FC;\n",
              "    }\n",
              "\n",
              "    [theme=dark] .colab-df-convert:hover {\n",
              "      background-color: #434B5C;\n",
              "      box-shadow: 0px 1px 3px 1px rgba(0, 0, 0, 0.15);\n",
              "      filter: drop-shadow(0px 1px 2px rgba(0, 0, 0, 0.3));\n",
              "      fill: #FFFFFF;\n",
              "    }\n",
              "  </style>\n",
              "\n",
              "      <script>\n",
              "        const buttonEl =\n",
              "          document.querySelector('#df-3cedbda2-b137-4238-a4ac-ed18ac213243 button.colab-df-convert');\n",
              "        buttonEl.style.display =\n",
              "          google.colab.kernel.accessAllowed ? 'block' : 'none';\n",
              "\n",
              "        async function convertToInteractive(key) {\n",
              "          const element = document.querySelector('#df-3cedbda2-b137-4238-a4ac-ed18ac213243');\n",
              "          const dataTable =\n",
              "            await google.colab.kernel.invokeFunction('convertToInteractive',\n",
              "                                                     [key], {});\n",
              "          if (!dataTable) return;\n",
              "\n",
              "          const docLinkHtml = 'Like what you see? Visit the ' +\n",
              "            '<a target=\"_blank\" href=https://colab.research.google.com/notebooks/data_table.ipynb>data table notebook</a>'\n",
              "            + ' to learn more about interactive tables.';\n",
              "          element.innerHTML = '';\n",
              "          dataTable['output_type'] = 'display_data';\n",
              "          await google.colab.output.renderOutput(dataTable, element);\n",
              "          const docLink = document.createElement('div');\n",
              "          docLink.innerHTML = docLinkHtml;\n",
              "          element.appendChild(docLink);\n",
              "        }\n",
              "      </script>\n",
              "    </div>\n",
              "  </div>\n",
              "  "
            ]
          },
          "metadata": {},
          "execution_count": 16
        }
      ]
    },
    {
      "cell_type": "code",
      "source": [
        "from sklearn.model_selection import train_test_split # separa os dados em treinamento e teste de forma aleatória\n",
        "\n",
        "y = data['price']\n",
        "X = data.iloc[:, 1:17]\n",
        "print(y.shape)\n",
        "print(X.shape)\n",
        "X_train, X_test, Y_train, Y_test = train_test_split(X, y, test_size=0.50, random_state=42)"
      ],
      "metadata": {
        "colab": {
          "base_uri": "https://localhost:8080/"
        },
        "id": "AhQFhYQaYl93",
        "outputId": "cb81e74d-aafe-46c2-9b31-eacf080f5005"
      },
      "execution_count": 17,
      "outputs": [
        {
          "output_type": "stream",
          "name": "stdout",
          "text": [
            "(21611,)\n",
            "(21611, 15)\n"
          ]
        }
      ]
    },
    {
      "cell_type": "markdown",
      "source": [
        "## Árvore de Decisão"
      ],
      "metadata": {
        "id": "CBhaQjziZDdF"
      }
    },
    {
      "cell_type": "code",
      "source": [
        "from sklearn import tree\n",
        "\n",
        "clf = tree.DecisionTreeRegressor(random_state=0,max_depth=10)\n",
        "clf = clf.fit(X_train, Y_train)"
      ],
      "metadata": {
        "id": "jAEdlX85YoZX"
      },
      "execution_count": 18,
      "outputs": []
    },
    {
      "cell_type": "code",
      "source": [
        "tree.plot_tree(clf)\n",
        "plt.show()"
      ],
      "metadata": {
        "id": "qpzunjzkYrIR"
      },
      "execution_count": null,
      "outputs": []
    },
    {
      "cell_type": "code",
      "source": [
        "# Classifica Teste\n",
        "dt_predicao = clf.predict(X_test)"
      ],
      "metadata": {
        "id": "w4886h9BYs7U"
      },
      "execution_count": null,
      "outputs": []
    },
    {
      "cell_type": "code",
      "source": [
        "from sklearn import metrics\n",
        "\n",
        "print(\"Decision Tree\")\n",
        "print('MAE:', metrics.mean_absolute_error(Y_test, dt_predicao))\n",
        "print('MSE:', metrics.mean_squared_error(Y_test, dt_predicao))\n",
        "print('RMSE:', np.sqrt(metrics.mean_squared_error(Y_test, dt_predicao)))\n",
        "# The coefficient of determination: 1 is perfect prediction\n",
        "print(\"Coefficient of determination: %.2f\" % metrics.r2_score(Y_test, dt_predicao))\n",
        "\n",
        "# Plot outputs\n",
        "plt.scatter(Y_test, dt_predicao, color=\"black\")\n",
        "plt.plot(np.arange(np.min(Y_test),np.max(Y_test)),\n",
        "         np.arange(np.min(Y_test),np.max(Y_test)),color=\"red\", linewidth=3)\n",
        "\n",
        "plt.show()"
      ],
      "metadata": {
        "id": "6VAyb3CXY0GM"
      },
      "execution_count": null,
      "outputs": []
    },
    {
      "cell_type": "code",
      "source": [
        "# criando um dataframe com y_test e dt_predicao\n",
        "dt_outcomes = pd.DataFrame({'Predicted value':dt_predicao, 'Actual value':Y_test})\n",
        "fig= plt.figure(figsize=(16,8))\n",
        "dt_outcomes = dt_outcomes.reset_index()\n",
        "dt_outcomes = dt_outcomes.drop(['index'],axis=1)\n",
        "plt.plot(dt_outcomes[:50])\n",
        "plt.legend(['Actual value','Predicted value'])\n"
      ],
      "metadata": {
        "id": "8kLEH1D1eJyF"
      },
      "execution_count": null,
      "outputs": []
    },
    {
      "cell_type": "markdown",
      "source": [
        "## Regressão Linear"
      ],
      "metadata": {
        "id": "loztvHMyZHRD"
      }
    },
    {
      "cell_type": "code",
      "source": [
        "from sklearn import datasets, linear_model\n",
        "\n",
        "regr = linear_model.LinearRegression()\n",
        "\n",
        "# Train the model using the training sets\n",
        "regr.fit(X_train, Y_train)\n",
        "\n",
        "# Make predictions using the testing set\n",
        "regr_predicao = regr.predict(X_test)\n",
        "\n",
        "# The coefficients\n",
        "print(\"Coefficients: \\n\", regr.coef_)\n",
        "\n",
        "print('MAE:', metrics.mean_absolute_error(Y_test, regr_predicao))\n",
        "print('MSE:', metrics.mean_squared_error(Y_test, regr_predicao))\n",
        "print('RMSE:', np.sqrt(metrics.mean_squared_error(Y_test, regr_predicao)))\n",
        "# The coefficient of determination: 1 is perfect prediction\n",
        "print(\"Coefficient of determination: %.2f\" % metrics.r2_score(Y_test, regr_predicao))\n",
        "\n",
        "# Plot outputs\n",
        "plt.scatter(Y_test, regr_predicao, color=\"blue\")\n",
        "plt.plot(np.arange(np.min(Y_test),np.max(Y_test)),np.arange(np.min(Y_test),np.max(Y_test)),color=\"red\", linewidth=3)\n",
        "\n",
        "plt.xticks(())\n",
        "plt.yticks(())\n",
        "\n",
        "plt.show()"
      ],
      "metadata": {
        "id": "HxX24GQ5Y-fA"
      },
      "execution_count": null,
      "outputs": []
    },
    {
      "cell_type": "code",
      "source": [
        "# criando um dataframe com y_test e regr_predicao\n",
        "regr_outcomes = pd.DataFrame({'Predicted value':regr_predicao, 'Actual value':Y_test})\n",
        "fig= plt.figure(figsize=(16,8))\n",
        "regr_outcomes = regr_outcomes.reset_index()\n",
        "regr_outcomes = regr_outcomes.drop(['index'],axis=1)\n",
        "plt.plot(regr_outcomes[:50])\n",
        "plt.legend(['Actual value','Predicted value'])"
      ],
      "metadata": {
        "id": "uOsOFhNbercM"
      },
      "execution_count": null,
      "outputs": []
    },
    {
      "cell_type": "markdown",
      "source": [
        "## Rede Neural Artificial"
      ],
      "metadata": {
        "id": "i1jOSYQrYYzc"
      }
    },
    {
      "cell_type": "code",
      "source": [
        "data = data.sample(frac=1)\n",
        "data.columns"
      ],
      "metadata": {
        "id": "m605HbVUebBZ"
      },
      "execution_count": null,
      "outputs": []
    },
    {
      "cell_type": "code",
      "source": [
        "import torch.nn as nn\n",
        "import torch.optim as optim\n",
        "from sklearn.model_selection import KFold\n",
        "from sklearn.metrics import mean_absolute_percentage_error\n",
        "from sklearn.feature_selection import SelectKBest, f_regression"
      ],
      "metadata": {
        "id": "G7kBcWPOLIyK"
      },
      "execution_count": null,
      "outputs": []
    },
    {
      "cell_type": "code",
      "source": [
        "x = data.iloc[:, 1:17].values\n",
        "x"
      ],
      "metadata": {
        "id": "b5LsPUkbGerl"
      },
      "execution_count": null,
      "outputs": []
    },
    {
      "cell_type": "code",
      "source": [
        "y = data.iloc[:, 0].values.reshape(-1, 1)\n",
        "y"
      ],
      "metadata": {
        "id": "q42_JsKrGunn"
      },
      "execution_count": null,
      "outputs": []
    },
    {
      "cell_type": "code",
      "source": [
        "n_folds = 5\n",
        "batch_size = 32\n",
        "n_epochs = 1000\n",
        "learning_rate = 1e-1"
      ],
      "metadata": {
        "id": "1wGzVPTmGQCw"
      },
      "execution_count": null,
      "outputs": []
    },
    {
      "cell_type": "code",
      "source": [
        "class MLP(nn.Module):\n",
        "  def __init__(self):\n",
        "    super().__init__()\n",
        "    self.fc1 = nn.Linear(15, 100)\n",
        "    self.dropout1 = nn.Dropout(p = 0.001)\n",
        "    self.fc2 = nn.Linear(100, 1)\n",
        "\n",
        "\n",
        "  def forward(self, x):\n",
        "      x = nn.functional.leaky_relu(self.fc1(x))\n",
        "      x = self.dropout1(x)\n",
        "      x = self.fc2(x)\n",
        "\n",
        "      return x"
      ],
      "metadata": {
        "id": "_VT-T86sKPnB"
      },
      "execution_count": null,
      "outputs": []
    },
    {
      "cell_type": "code",
      "source": [
        "mlp = MLP()\n",
        "loss_function = nn.MSELoss()\n",
        "optimizer = optim.Adam(mlp.parameters(), lr=learning_rate)\n",
        "\n",
        "models = []\n",
        "results = []\n",
        "\n",
        "kf = KFold(n_splits = n_folds)\n",
        "\n",
        "best_model = None\n",
        "weight_decay = 0.001\n",
        "patience = 30.5\n",
        "best_val_loss = float('inf')\n",
        "val_losses = []\n",
        "train_losses = []\n",
        "\n",
        "for fold, (train_index, test_index) in enumerate(kf.split(x)):\n",
        "\n",
        "  x_train, x_test = x[train_index], x[test_index]\n",
        "  y_train, y_test = y[train_index], y[test_index]\n",
        "  \n",
        "  x_train = torch.FloatTensor(x_train)\n",
        "  y_train = torch.FloatTensor(y_train)\n",
        "  x_test = torch.FloatTensor(x_test)\n",
        "  y_test = torch.FloatTensor(y_test)\n",
        "\n",
        "\n",
        "  for epoch in range (n_epochs):\n",
        "    y_pred = mlp(x_train)\n",
        "    loss = loss_function(y_pred, y_train)\n",
        "\n",
        "    l2_reg = torch.tensor(0.)\n",
        "    for param in mlp.parameters():\n",
        "      l2_reg += torch.norm(param)\n",
        "    loss += weight_decay * l2_reg\n",
        "    optimizer.zero_grad()\n",
        "    loss.backward()\n",
        "    optimizer.step()\n",
        "\n",
        "    train_losses.append(loss.item())\n",
        "    with torch.no_grad():\n",
        "      val_outputs = mlp(x_test)\n",
        "      val_loss = loss_function(val_outputs, y_test)\n",
        "      val_losses.append(val_loss.item())\n",
        "\n",
        "    if val_loss < best_val_loss:\n",
        "      best_val_loss = val_loss\n",
        "      best_model = mlp.state_dict()\n",
        "      counter = 0\n",
        "    else:\n",
        "      counter += 0.5\n",
        "      if counter >= patience:\n",
        "        mlp.load_state_dict(best_model)\n",
        "        break\n",
        "    \n",
        "    y_pred = mlp(x_test)\n",
        "    mape = mean_absolute_percentage_error(y_test, y_pred.detach().numpy())\n",
        "\n",
        "  result = {\n",
        "      'model' : mlp,\n",
        "      'mape' : mape\n",
        "  }\n",
        "\n",
        "  results.append(result)"
      ],
      "metadata": {
        "id": "PdmrPag2KU17"
      },
      "execution_count": null,
      "outputs": []
    },
    {
      "cell_type": "code",
      "source": [
        "models_sorted = sorted(results, key=lambda x: x['mape'], reverse=False)"
      ],
      "metadata": {
        "id": "FfKY5yWhdxVH"
      },
      "execution_count": null,
      "outputs": []
    },
    {
      "cell_type": "code",
      "source": [
        "top_models = [r['model'] for r in models_sorted[:5]]"
      ],
      "metadata": {
        "id": "mnQNe2CddyjN"
      },
      "execution_count": null,
      "outputs": []
    },
    {
      "cell_type": "code",
      "source": [
        "for i, model in enumerate(top_models):\n",
        "    filename = f'Pedro_e_Lecio_RNAFOLD{i+1}.pth'\n",
        "    torch.save(model.state_dict(), filename)\n",
        "    print(f'Modelo {i+1}: {filename}, MAPE: {models_sorted[i][\"mape\"]}')"
      ],
      "metadata": {
        "id": "-ATb0wLmeAs_"
      },
      "execution_count": null,
      "outputs": []
    },
    {
      "cell_type": "markdown",
      "source": [
        "## Aplicação dos Modelos"
      ],
      "metadata": {
        "id": "SJoNLfqhJmrm"
      }
    },
    {
      "cell_type": "markdown",
      "source": [
        "\n",
        "* Calcular a diff = abs( y - h(x) ) e plotar igual aula prática II;\n",
        "* Plotar o gráfico de linhas para todas as amostras, mostrando o comportamento de h(x) e f(x);\n",
        "* Adicionar uma nova coluna na planilha dos dados com o nome de NEW PRICE com os valores estimados pela melhor h(x) encontrada.\n",
        "\n"
      ],
      "metadata": {
        "id": "2P84CEjPJ9Iu"
      }
    },
    {
      "cell_type": "code",
      "source": [
        "df = df[['price', 'bedrooms', 'bathrooms', 'sqft_living', 'sqft_lot', 'floors', \n",
        "         'waterfront', 'view', 'condition', 'grade', 'sqft_above', \n",
        "         'sqft_basement', 'yr_built', 'yr_renovated', 'sqft_living15', \n",
        "         'sqft_lot15', 'id', 'date', 'lat', 'long', 'zipcode']]\n",
        "\n",
        "df = df.dropna()\n",
        "\n",
        "df.columns"
      ],
      "metadata": {
        "id": "JXbKuoOL8Yev"
      },
      "execution_count": null,
      "outputs": []
    },
    {
      "cell_type": "code",
      "source": [
        "parameters = df.iloc[:, 1:16].values\n",
        "tensor_parameters = torch.FloatTensor(parameters)\n",
        "predicao = top_models[0](tensor_parameters).detach().numpy()\n",
        "df['new_price'] = predicao"
      ],
      "metadata": {
        "id": "n5cM2Q1_A8TE"
      },
      "execution_count": null,
      "outputs": []
    },
    {
      "cell_type": "code",
      "source": [
        "# dt\n",
        "df['dt_new_price'] = clf.predict(tensor_parameters)"
      ],
      "metadata": {
        "id": "vkqbg4Ab-57b"
      },
      "execution_count": null,
      "outputs": []
    },
    {
      "cell_type": "code",
      "source": [
        "# regr\n",
        "df['regr_new_price'] = regr.predict(tensor_parameters)"
      ],
      "metadata": {
        "id": "w4Cgjbi4-7r1"
      },
      "execution_count": null,
      "outputs": []
    },
    {
      "cell_type": "code",
      "source": [
        "df['diff'] = abs(df['price'] - df['new_price'])\n",
        "df['norm_diff'] = (df['diff'] - min(df['diff']))/(max(df['diff'])-min(df['diff']))"
      ],
      "metadata": {
        "id": "nybLSlGYExwR"
      },
      "execution_count": null,
      "outputs": []
    },
    {
      "cell_type": "code",
      "source": [
        "df"
      ],
      "metadata": {
        "id": "vgWx8BIeGX8N"
      },
      "execution_count": null,
      "outputs": []
    },
    {
      "cell_type": "markdown",
      "source": [
        "## h(x) e f(x)"
      ],
      "metadata": {
        "id": "33ywhwaYNGts"
      }
    },
    {
      "cell_type": "code",
      "source": [
        "# criando um dataframe com y_test e dt_predicao\n",
        "# (outcomes['diff'] - min(outcomes['diff']))/(max(outcomes['diff'])-min(outcomes['diff']))\n",
        "outcomes = pd.DataFrame({'Predicted value':df['new_price'], 'Actual value':df['price']})\n",
        "outcomes['diff'] = abs(outcomes['Predicted value'] - outcomes['Actual value'])\n",
        "outcomes['norm_diff'] = (outcomes['diff'] - min(outcomes['diff']))/(max(outcomes['diff'])-min(outcomes['diff']))\n",
        "outcomes = outcomes.sort_values(by=['norm_diff'])\n",
        "outcomes = outcomes.drop(columns=['diff', 'norm_diff'])\n",
        "fig = plt.figure(figsize=(256,8))\n",
        "outcomes = outcomes.reset_index()\n",
        "outcomes = outcomes.drop(['index'],axis=1)\n",
        "plt.plot(outcomes)\n",
        "plt.legend(['Actual value','Predicted value'])"
      ],
      "metadata": {
        "id": "MLSy12xvNKhv"
      },
      "execution_count": null,
      "outputs": []
    },
    {
      "cell_type": "markdown",
      "source": [
        "## Diff"
      ],
      "metadata": {
        "id": "PLpLo_8LL1ml"
      }
    },
    {
      "cell_type": "code",
      "source": [
        "import numpy as np\n",
        "import matplotlib.pyplot as plt\n",
        "\n",
        "n, bins, patches = plt.hist(df['diff'], density=True)\n",
        "plt.xlabel('Diff Price')\n",
        "plt.ylabel('Frequency')\n",
        "plt.title('Histogram')\n",
        "plt.grid(True)\n",
        "plt.show()"
      ],
      "metadata": {
        "id": "bg-u34NOL4SZ"
      },
      "execution_count": null,
      "outputs": []
    },
    {
      "cell_type": "markdown",
      "source": [
        "## Mapa"
      ],
      "metadata": {
        "id": "PDdJ_Wd0LziB"
      }
    },
    {
      "cell_type": "code",
      "source": [
        "import folium\n",
        "from folium.plugins import HeatMap"
      ],
      "metadata": {
        "id": "bW5ehT4iAGZY"
      },
      "execution_count": null,
      "outputs": []
    },
    {
      "cell_type": "code",
      "source": [
        "def plotMarker(dataset):\n",
        "    \n",
        "    popup = folium.Popup(html=f'''\n",
        "<b>price:</b> {dataset['price']}<br>\n",
        "<b>new_price(MLP):</b> {dataset['new_price']}<br>\n",
        "<b>new_price(DT):</b> {dataset['dt_new_price']}<br>\n",
        "<b>new_price(REGR):</b> {dataset['regr_new_price']}<br>\n",
        "<b>diff:</b> {dataset['diff']}<br>\n",
        "<b>bedrooms:</b> {dataset['bedrooms']}<br>\n",
        "<b>bathrooms:</b> {dataset['bathrooms']}<br>\n",
        "<b>sqft_living:</b> {dataset['sqft_living']}<br>\n",
        "<b>sqft_living15:</b> {dataset['sqft_living15']}<br>\n",
        "<b>sqft_lot:</b> {dataset['sqft_lot']}<br>\n",
        "<b>sqft_lot15:</b> {dataset['sqft_lot15']}<br>\n",
        "<b>floors:</b> {dataset['floors']}<br>\n",
        "<b>waterfront:</b> {dataset['waterfront']}<br>\n",
        "<b>view:</b> {dataset['view']}<br>\n",
        "<b>condition:</b> {dataset['condition']}<br>\n",
        "<b>grade:</b> {dataset['grade']}<br>\n",
        "<b>sqft_above:</b> {dataset['sqft_above']}<br>\n",
        "<b>sqft_basement:</b> {dataset['sqft_basement']}<br>\n",
        "<b>yr_built:</b> {dataset['yr_built']}<br>\n",
        "<b>yr_renovated:</b> {dataset['yr_renovated']}<br>\n",
        "<b>zipcode:</b> {dataset['zipcode']}<br>\n",
        "<b>lat:</b> {dataset['lat']}<br>\n",
        "<b>long:</b> {dataset['long']}<br>\n",
        "\n",
        "        ''',\n",
        "        max_widht=400)\n",
        "    \n",
        "    folium.Marker(\n",
        "        location=[dataset['lat'], dataset['long']],\n",
        "        popup=popup,\n",
        "        icon=folium.Icon(icon='home', icon_color='white')\n",
        "        ).add_to(map)"
      ],
      "metadata": {
        "id": "ZXwImEOSZFq4"
      },
      "execution_count": null,
      "outputs": []
    },
    {
      "cell_type": "code",
      "source": [
        "def plotHeatMap(dataset):\n",
        "    dataset['norm_diff'] = (dataset['norm_diff']-dataset['norm_diff'].min())/(dataset['norm_diff'].max()-dataset['norm_diff'].min())\n",
        "    heat_df = dataset.loc[:,[\"lat\",\"long\",\"diff\"]]\n",
        "    heat_data = heat_df.values.tolist()\n",
        "    HeatMap(heat_data).add_to(map)"
      ],
      "metadata": {
        "id": "v7v2pru7Fl2K"
      },
      "execution_count": null,
      "outputs": []
    },
    {
      "cell_type": "code",
      "source": [
        "location = df[['lat', 'long']].mean()\n",
        "df_map = df.sample(n=1000)\n",
        "map = folium.Map(location = location, zoom_start = 10)\n",
        "plotHeatMap(df_map)\n",
        "df_map.apply(plotMarker, axis=1)\n",
        "map.save('map_test.html')"
      ],
      "metadata": {
        "id": "D-5Y08BCANsG"
      },
      "execution_count": null,
      "outputs": []
    },
    {
      "cell_type": "markdown",
      "source": [
        "## Comparação da predição de diferentes modelos"
      ],
      "metadata": {
        "id": "5sJJLzj6fuXu"
      }
    },
    {
      "cell_type": "code",
      "source": [
        "df['new_price'].shape"
      ],
      "metadata": {
        "id": "Dt_KWSiGhSn6"
      },
      "execution_count": null,
      "outputs": []
    },
    {
      "cell_type": "code",
      "source": [
        "# criando um dataframe com y_test e dt_predicao\n",
        "model_outcomes = pd.DataFrame({'DT':dt_predicao, 'Linear Model':regr_predicao, 'MLP': df['new_price'][:10806]})\n",
        "fig= plt.figure(figsize=(16,8))\n",
        "model_outcomes = model_outcomes.reset_index()\n",
        "model_outcomes = model_outcomes.drop(['index'],axis=1)\n",
        "plt.plot(model_outcomes[:50])\n",
        "plt.legend(['DT','Linear Model','MLP'])"
      ],
      "metadata": {
        "id": "HN8jnbOjlpzA"
      },
      "execution_count": null,
      "outputs": []
    },
    {
      "cell_type": "code",
      "source": [
        "from sklearn import metrics # quanto maior pior é o modelo\n",
        "\n",
        "print('|Modelo\\t|\\tMAE\\t|\\tMSE\\t|\\tRMSE\\t|')\n",
        "print(' Tree:', f'       {int(metrics.mean_absolute_error(Y_test, dt_predicao))}', f'       {int(metrics.mean_squared_error(Y_test, dt_predicao))}', f'      {int(np.sqrt(metrics.mean_squared_error(Y_test, dt_predicao)))}')\n",
        "\n",
        "print(' Linear:', f'     {int(metrics.mean_absolute_error(Y_test, regr_predicao))}', f'       {int(metrics.mean_squared_error(Y_test, regr_predicao))}', f'      {int(np.sqrt(metrics.mean_squared_error(Y_test, regr_predicao)))}')\n",
        "\n",
        "print(' MLP:', f'\\t      {int(metrics.mean_absolute_error(y, df[\"new_price\"]))}', f'\\t   {int(metrics.mean_squared_error(y, df[\"new_price\"]))}', f'      {int(np.sqrt(metrics.mean_squared_error(y,df[\"new_price\"])))}')\n"
      ],
      "metadata": {
        "id": "UCtQ-Yg3n-B_"
      },
      "execution_count": null,
      "outputs": []
    }
  ]
}